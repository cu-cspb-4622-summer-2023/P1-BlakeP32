{
 "cells": [
  {
   "attachments": {},
   "cell_type": "markdown",
   "id": "b67ffcf6-4b96-4a87-b9b0-553db4735328",
   "metadata": {},
   "source": [
    "# Supervised Learning Fraud Detection"
   ]
  },
  {
   "attachments": {},
   "cell_type": "markdown",
   "id": "b222ea6c-5b58-4e27-b204-a19d7e07977e",
   "metadata": {},
   "source": [
    "The goal of this project is to use supervised machine learning models to predict whether a bank transaction is fraudulent or not. This problem is a binary classification problem: fraudulent or not fraudulent. Accurate Fraud detection is very important for businesses and individuals. From a business side accurately predicting fraud can help prevent extensive financial loss and prevent a bad reputation. From an individual standpoint it can warn users if potential fraudulent activity happened on their account and help them recover losses from fraudulent transactions. We will look at SVM, Random Forests, and Logistic Regression and compare their performance in predicting fraud."
   ]
  },
  {
   "attachments": {},
   "cell_type": "markdown",
   "id": "73a2c958-49ab-475f-b016-fe24d861ac43",
   "metadata": {},
   "source": [
    "# Data"
   ]
  },
  {
   "attachments": {},
   "cell_type": "markdown",
   "id": "b053e1f6-2e9b-4a0e-bd61-10fd2b6230e2",
   "metadata": {},
   "source": [
    "The data set we are using for this project is from kaggle and can be found here: https://www.kaggle.com/datasets/ealaxi/paysim1?resource=download \n",
    "The dataset is a synthetic data financial transaction dataset labeled with whether the transaction is fraudulent or not. Since financial transactions are normally private a synthetic dataset simulating financial transactions was created. \n",
    "Columns of dataset:\n",
    "- Step: what hour the transaction was simulated in\n",
    "- Type: The type of transaction whether it was a payment, transfer, cash out, ect\n",
    "- Amount: currency amount in transaction\n",
    "- nameOrig: id of account currency came from\n",
    "- oldbalanceOrig: Balance of account transaction came from before transaction\n",
    "- newbalanceOrig: Balance of account transaction came from after transaction\n",
    "- nameDest: id of account the currency is going to\n",
    "- oldbalanceDest: Balance of account transaction went to before transaction\n",
    "- newbalanceDest: Balance of account transaction went to after transaction\n",
    "- isFraud: 0 indicating not fraud, 1 indicating fraud  \n",
    "\n",
    "The dataset includes 6,362,620 fincial transactions"
   ]
  },
  {
   "attachments": {},
   "cell_type": "markdown",
   "id": "7146acda-650e-4e5c-bd8d-7bf799d43d62",
   "metadata": {},
   "source": [
    "### Imports"
   ]
  },
  {
   "cell_type": "code",
   "execution_count": 1,
   "id": "6a276f7e-9790-4c67-b094-3ea27bd57f43",
   "metadata": {},
   "outputs": [],
   "source": [
    "import numpy as np\n",
    "import pandas as pd\n",
    "import matplotlib.pyplot as plt\n",
    "from sklearn.metrics import recall_score\n",
    "from sklearn.svm import SVC\n",
    "from sklearn.ensemble import RandomForestClassifier\n",
    "from sklearn.linear_model import LogisticRegression\n",
    "from sklearn.model_selection import train_test_split\n",
    "from sklearn.metrics import accuracy_score, confusion_matrix\n"
   ]
  },
  {
   "cell_type": "code",
   "execution_count": 2,
   "id": "95dbbab4",
   "metadata": {},
   "outputs": [
    {
     "name": "stdout",
     "output_type": "stream",
     "text": [
      "   step      type    amount     nameOrig  oldbalanceOrg  newbalanceOrig  \\\n",
      "0     1   PAYMENT   9839.64  C1231006815       170136.0       160296.36   \n",
      "1     1   PAYMENT   1864.28  C1666544295        21249.0        19384.72   \n",
      "2     1  TRANSFER    181.00  C1305486145          181.0            0.00   \n",
      "3     1  CASH_OUT    181.00   C840083671          181.0            0.00   \n",
      "4     1   PAYMENT  11668.14  C2048537720        41554.0        29885.86   \n",
      "\n",
      "      nameDest  oldbalanceDest  newbalanceDest  isFraud  isFlaggedFraud  \n",
      "0  M1979787155             0.0             0.0        0               0  \n",
      "1  M2044282225             0.0             0.0        0               0  \n",
      "2   C553264065             0.0             0.0        1               0  \n",
      "3    C38997010         21182.0             0.0        1               0  \n",
      "4  M1230701703             0.0             0.0        0               0  \n"
     ]
    }
   ],
   "source": [
    "data = pd.read_csv('data/transactions.csv')\n",
    "print(data.head())"
   ]
  },
  {
   "cell_type": "code",
   "execution_count": 3,
   "id": "04402e6c",
   "metadata": {},
   "outputs": [
    {
     "name": "stdout",
     "output_type": "stream",
     "text": [
      "Number of rows: 6362620\n"
     ]
    }
   ],
   "source": [
    "rows = data.shape[0]\n",
    "print(\"Number of rows:\", rows)"
   ]
  },
  {
   "cell_type": "code",
   "execution_count": 4,
   "id": "dc26e068",
   "metadata": {},
   "outputs": [
    {
     "name": "stdout",
     "output_type": "stream",
     "text": [
      "       type    amount  oldbalanceOrg  oldbalanceDest  isFraud\n",
      "0   PAYMENT   9839.64       170136.0             0.0        0\n",
      "1   PAYMENT   1864.28        21249.0             0.0        0\n",
      "2  TRANSFER    181.00          181.0             0.0        1\n",
      "3  CASH_OUT    181.00          181.0         21182.0        1\n",
      "4   PAYMENT  11668.14        41554.0             0.0        0\n"
     ]
    }
   ],
   "source": [
    "selected_columns = ['type', 'amount', 'oldbalanceOrg', 'oldbalanceDest', 'isFraud']\n",
    "data = data[selected_columns]\n",
    "print(data.head())"
   ]
  },
  {
   "cell_type": "code",
   "execution_count": 5,
   "id": "092f3278",
   "metadata": {},
   "outputs": [
    {
     "data": {
      "text/html": [
       "<div>\n",
       "<style scoped>\n",
       "    .dataframe tbody tr th:only-of-type {\n",
       "        vertical-align: middle;\n",
       "    }\n",
       "\n",
       "    .dataframe tbody tr th {\n",
       "        vertical-align: top;\n",
       "    }\n",
       "\n",
       "    .dataframe thead th {\n",
       "        text-align: right;\n",
       "    }\n",
       "</style>\n",
       "<table border=\"1\" class=\"dataframe\">\n",
       "  <thead>\n",
       "    <tr style=\"text-align: right;\">\n",
       "      <th></th>\n",
       "      <th>amount</th>\n",
       "      <th>oldbalanceOrg</th>\n",
       "      <th>oldbalanceDest</th>\n",
       "      <th>isFraud</th>\n",
       "      <th>type_CASH_IN</th>\n",
       "      <th>type_CASH_OUT</th>\n",
       "      <th>type_DEBIT</th>\n",
       "      <th>type_PAYMENT</th>\n",
       "      <th>type_TRANSFER</th>\n",
       "    </tr>\n",
       "  </thead>\n",
       "  <tbody>\n",
       "    <tr>\n",
       "      <th>0</th>\n",
       "      <td>9839.64</td>\n",
       "      <td>170136.0</td>\n",
       "      <td>0.0</td>\n",
       "      <td>0</td>\n",
       "      <td>0</td>\n",
       "      <td>0</td>\n",
       "      <td>0</td>\n",
       "      <td>1</td>\n",
       "      <td>0</td>\n",
       "    </tr>\n",
       "    <tr>\n",
       "      <th>1</th>\n",
       "      <td>1864.28</td>\n",
       "      <td>21249.0</td>\n",
       "      <td>0.0</td>\n",
       "      <td>0</td>\n",
       "      <td>0</td>\n",
       "      <td>0</td>\n",
       "      <td>0</td>\n",
       "      <td>1</td>\n",
       "      <td>0</td>\n",
       "    </tr>\n",
       "    <tr>\n",
       "      <th>2</th>\n",
       "      <td>181.00</td>\n",
       "      <td>181.0</td>\n",
       "      <td>0.0</td>\n",
       "      <td>1</td>\n",
       "      <td>0</td>\n",
       "      <td>0</td>\n",
       "      <td>0</td>\n",
       "      <td>0</td>\n",
       "      <td>1</td>\n",
       "    </tr>\n",
       "    <tr>\n",
       "      <th>3</th>\n",
       "      <td>181.00</td>\n",
       "      <td>181.0</td>\n",
       "      <td>21182.0</td>\n",
       "      <td>1</td>\n",
       "      <td>0</td>\n",
       "      <td>1</td>\n",
       "      <td>0</td>\n",
       "      <td>0</td>\n",
       "      <td>0</td>\n",
       "    </tr>\n",
       "    <tr>\n",
       "      <th>4</th>\n",
       "      <td>11668.14</td>\n",
       "      <td>41554.0</td>\n",
       "      <td>0.0</td>\n",
       "      <td>0</td>\n",
       "      <td>0</td>\n",
       "      <td>0</td>\n",
       "      <td>0</td>\n",
       "      <td>1</td>\n",
       "      <td>0</td>\n",
       "    </tr>\n",
       "  </tbody>\n",
       "</table>\n",
       "</div>"
      ],
      "text/plain": [
       "     amount  oldbalanceOrg  oldbalanceDest  isFraud  type_CASH_IN  \\\n",
       "0   9839.64       170136.0             0.0        0             0   \n",
       "1   1864.28        21249.0             0.0        0             0   \n",
       "2    181.00          181.0             0.0        1             0   \n",
       "3    181.00          181.0         21182.0        1             0   \n",
       "4  11668.14        41554.0             0.0        0             0   \n",
       "\n",
       "   type_CASH_OUT  type_DEBIT  type_PAYMENT  type_TRANSFER  \n",
       "0              0           0             1              0  \n",
       "1              0           0             1              0  \n",
       "2              0           0             0              1  \n",
       "3              1           0             0              0  \n",
       "4              0           0             1              0  "
      ]
     },
     "execution_count": 5,
     "metadata": {},
     "output_type": "execute_result"
    }
   ],
   "source": [
    "data = pd.get_dummies(data, columns=['type'])\n",
    "data.head()"
   ]
  },
  {
   "attachments": {},
   "cell_type": "markdown",
   "id": "91bfdf71",
   "metadata": {},
   "source": [
    "Getting rid of both the new balance columns because they include redundant data with the old balance and transaction amount. Step is not useful so we are removing that column. IdFraudFlagged is removed also because we only care wether it is fraud or not. Getting rid of the id columns also because they do not add useful information to wether it is fraud or not unless we could acces when the account was created or which accounts may be associated with fraud, this could be something we explore later with a dataset that includes when the account was created. Converted type of transaction into binary columns using one-hot encoding so we can use the categorical data in our models. "
   ]
  },
  {
   "attachments": {},
   "cell_type": "markdown",
   "id": "ec21dd13",
   "metadata": {},
   "source": [
    "#### corelation matrix"
   ]
  },
  {
   "cell_type": "code",
   "execution_count": 8,
   "id": "b7418a86",
   "metadata": {},
   "outputs": [
    {
     "name": "stdout",
     "output_type": "stream",
     "text": [
      "                  amount  oldbalanceOrg  oldbalanceDest   isFraud  \\\n",
      "amount          1.000000      -0.002762        0.294137  0.076688   \n",
      "oldbalanceOrg  -0.002762       1.000000        0.066243  0.010154   \n",
      "oldbalanceDest  0.294137       0.066243        1.000000 -0.005885   \n",
      "isFraud         0.076688       0.010154       -0.005885  1.000000   \n",
      "type_CASH_IN   -0.009621       0.506761        0.076105 -0.019089   \n",
      "type_CASH_OUT  -0.004376      -0.200899        0.086028  0.011256   \n",
      "type_DEBIT     -0.023379      -0.021450        0.009347 -0.002911   \n",
      "type_PAYMENT   -0.197444      -0.189486       -0.231455 -0.025697   \n",
      "type_TRANSFER   0.365896      -0.081593        0.130476  0.053869   \n",
      "\n",
      "                type_CASH_IN  type_CASH_OUT  type_DEBIT  type_PAYMENT  \\\n",
      "amount             -0.009621      -0.004376   -0.023379     -0.197444   \n",
      "oldbalanceOrg       0.506761      -0.200899   -0.021450     -0.189486   \n",
      "oldbalanceDest      0.076105       0.086028    0.009347     -0.231455   \n",
      "isFraud            -0.019089       0.011256   -0.002911     -0.025697   \n",
      "type_CASH_IN        1.000000      -0.391047   -0.042987     -0.379522   \n",
      "type_CASH_OUT      -0.391047       1.000000   -0.059625     -0.526422   \n",
      "type_DEBIT         -0.042987      -0.059625    1.000000     -0.057868   \n",
      "type_PAYMENT       -0.379522      -0.526422   -0.057868      1.000000   \n",
      "type_TRANSFER      -0.160535      -0.222672   -0.024478     -0.216110   \n",
      "\n",
      "                type_TRANSFER  \n",
      "amount               0.365896  \n",
      "oldbalanceOrg       -0.081593  \n",
      "oldbalanceDest       0.130476  \n",
      "isFraud              0.053869  \n",
      "type_CASH_IN        -0.160535  \n",
      "type_CASH_OUT       -0.222672  \n",
      "type_DEBIT          -0.024478  \n",
      "type_PAYMENT        -0.216110  \n",
      "type_TRANSFER        1.000000  \n"
     ]
    }
   ],
   "source": [
    "correlation_matrix = data.corr()\n",
    "print(correlation_matrix)"
   ]
  },
  {
   "attachments": {},
   "cell_type": "markdown",
   "id": "569d6d12-5322-4a5f-b1bd-a21b228b93f5",
   "metadata": {},
   "source": [
    "#### Histogram of Transaction amounts:"
   ]
  },
  {
   "cell_type": "code",
   "execution_count": 15,
   "id": "c74d903a",
   "metadata": {},
   "outputs": [
    {
     "data": {
      "image/png": "[encoded data removed]",
      "text/plain": [
       "<Figure size 432x288 with 1 Axes>"
      ]
     },
     "metadata": {
      "needs_background": "light"
     },
     "output_type": "display_data"
    }
   ],
   "source": [
    "filtered_data = data[(data['amount'] <= 500000)]\n",
    "plt.hist(filtered_data['amount'], bins=30, edgecolor='black') # remove really high values for histogram\n",
    "plt.title('Distribution of Transaction Amount (0 - 500,000)')\n",
    "plt.xlabel('Amount')\n",
    "plt.ylabel('Frequency')\n",
    "plt.show()"
   ]
  },
  {
   "attachments": {},
   "cell_type": "markdown",
   "id": "80c05066",
   "metadata": {},
   "source": [
    "#### Histogram of Amount for only fraud transactions"
   ]
  },
  {
   "cell_type": "code",
   "execution_count": 24,
   "id": "b7b24203",
   "metadata": {},
   "outputs": [
    {
     "data": {
      "image/png": "[encoded data removed]",
      "text/plain": [
       "<Figure size 432x288 with 1 Axes>"
      ]
     },
     "metadata": {
      "needs_background": "light"
     },
     "output_type": "display_data"
    }
   ],
   "source": [
    "filtered_fraud = filtered_data[(filtered_data['isFraud'] == 1)]\n",
    "filtered_clean = filtered_data[(filtered_data['isFraud'] == 0)]\n",
    "plt.hist(filtered_clean['amount'], bins=30, color='black', density=True, alpha=0.5, label = 'Not Fraud')\n",
    "plt.hist(filtered_fraud['amount'], bins=30, color='red', density=True, alpha =0.5, label = 'Fraud') # remove really high values for histogram\n",
    "plt.title('Distribution of Transaction Amount (0 - 500,000)')\n",
    "plt.xlabel('Amount')\n",
    "plt.ylabel('Frequency')\n",
    "plt.legend()\n",
    "plt.show()"
   ]
  },
  {
   "attachments": {},
   "cell_type": "markdown",
   "id": "40101dff",
   "metadata": {},
   "source": [
    "This histogram shows the density histogram of fraud vs not fraud showing fraud transactions tend to be on average higher amount."
   ]
  },
  {
   "attachments": {},
   "cell_type": "markdown",
   "id": "9b739ac9-6938-4991-91ca-6a09af445ea1",
   "metadata": {},
   "source": [
    "#### Histogram of Account Balances Fraud vs Not Fraud:"
   ]
  },
  {
   "cell_type": "code",
   "execution_count": 26,
   "id": "2ae1a766",
   "metadata": {},
   "outputs": [
    {
     "data": {
      "image/png": "[encoded data removed]",
      "text/plain": [
       "<Figure size 432x288 with 1 Axes>"
      ]
     },
     "metadata": {
      "needs_background": "light"
     },
     "output_type": "display_data"
    }
   ],
   "source": [
    "filtered_fraud = data[(data['isFraud'] == 1) & (data['oldbalanceOrg'] <= 1000000)]\n",
    "filtered_clean = data[(data['isFraud'] == 0) & (data['oldbalanceOrg'] <= 1000000)]\n",
    "plt.hist(filtered_clean['oldbalanceOrg'], bins=30, color='black', density=True, alpha=0.5, label = 'Not Fraud')\n",
    "plt.hist(filtered_fraud['oldbalanceOrg'], bins=30, color='red', density=True, alpha =0.5, label = 'Fraud') # remove really high values for histogram\n",
    "plt.title('Distribution of Transaction Amount (0 - 500,000)')\n",
    "plt.xlabel('Amount')\n",
    "plt.ylabel('Frequency')\n",
    "plt.legend()\n",
    "plt.show()"
   ]
  },
  {
   "attachments": {},
   "cell_type": "markdown",
   "id": "a07d71d0",
   "metadata": {},
   "source": [
    "This denisty histogram shows fraud tends to happen more on higher valued accounts than no fraud transactions."
   ]
  },
  {
   "attachments": {},
   "cell_type": "markdown",
   "id": "ed9268df-bfc7-4429-8726-fb21dd5d2fc7",
   "metadata": {},
   "source": [
    "# Models"
   ]
  },
  {
   "cell_type": "code",
   "execution_count": 42,
   "id": "2e5d8c76",
   "metadata": {},
   "outputs": [
    {
     "name": "stdout",
     "output_type": "stream",
     "text": [
      "Columns: Index(['amount', 'oldbalanceOrg', 'oldbalanceDest', 'isFraud', 'type_CASH_IN',\n",
      "       'type_CASH_OUT', 'type_DEBIT', 'type_PAYMENT', 'type_TRANSFER'],\n",
      "      dtype='object')\n"
     ]
    }
   ],
   "source": [
    "print(\"Columns:\", data.columns)"
   ]
  },
  {
   "cell_type": "code",
   "execution_count": 6,
   "id": "9ef398fd",
   "metadata": {},
   "outputs": [],
   "source": [
    "#data split\n",
    "features = ['amount', 'oldbalanceOrg', 'oldbalanceDest', 'type_CASH_IN', 'type_CASH_OUT', 'type_DEBIT', 'type_PAYMENT', 'type_TRANSFER']\n",
    "target = 'isFraud'\n",
    "x_train, x_test, y_train, y_test = train_test_split(data[features], data[target], test_size=0.2, random_state=42)\n"
   ]
  },
  {
   "attachments": {},
   "cell_type": "markdown",
   "id": "65378612",
   "metadata": {},
   "source": [
    "### Logistic Regression"
   ]
  },
  {
   "cell_type": "code",
   "execution_count": 9,
   "id": "984ae223",
   "metadata": {},
   "outputs": [
    {
     "data": {
      "text/plain": [
       "LogisticRegression(solver='liblinear')"
      ]
     },
     "execution_count": 9,
     "metadata": {},
     "output_type": "execute_result"
    }
   ],
   "source": [
    "#testing different logistic regression solvers\n",
    "\n",
    "modelLRlbfgs = LogisticRegression(solver='lbfgs')\n",
    "modelLRlbfgs.fit(x_train, y_train)\n",
    "\n",
    "modelLRll = LogisticRegression(solver='liblinear')\n",
    "modelLRll.fit(x_train, y_train)\n",
    "\n",
    "#newtons method did not converge so we got rid of it\n",
    "\n",
    "#removed stochastic gradient descent also because it didn't converge"
   ]
  },
  {
   "cell_type": "code",
   "execution_count": 10,
   "id": "5ebf8803",
   "metadata": {},
   "outputs": [
    {
     "name": "stdout",
     "output_type": "stream",
     "text": [
      "lbfgs solver\n",
      "Accuracy: 0.9987395129679283\n",
      "Confusion Matrix:\n",
      "[[1270903       1]\n",
      " [   1603      17]]\n",
      "Liblinear solver\n",
      "Accuracy: 0.9987269395311994\n",
      "Confusion Matrix:\n",
      "[[1270904       0]\n",
      " [   1620       0]]\n"
     ]
    }
   ],
   "source": [
    "y_pred = modelLRlbfgs.predict(x_test)\n",
    "accuracy = accuracy_score(y_test, y_pred)\n",
    "confusion = confusion_matrix(y_test, y_pred)\n",
    "print('lbfgs solver')\n",
    "print(\"Accuracy:\", accuracy)\n",
    "print(\"Confusion Matrix:\")\n",
    "print(confusion)\n",
    "\n",
    "\n",
    "y_pred = modelLRll.predict(x_test)\n",
    "accuracy = accuracy_score(y_test, y_pred)\n",
    "confusion = confusion_matrix(y_test, y_pred)\n",
    "print('Liblinear solver')\n",
    "print(\"Accuracy:\", accuracy)\n",
    "print(\"Confusion Matrix:\")\n",
    "print(confusion)"
   ]
  },
  {
   "attachments": {},
   "cell_type": "markdown",
   "id": "d39bfca5",
   "metadata": {},
   "source": [
    "The accuracy for both was really high but there was a really low amount of True Positive. The only reason the accuracy was high is because there is a lot less fraud than non-fraud and the models classified almost everything as not fraud. Therefore, despite the high accuracy logistic regression preformed poorly. For fraud detection we are okay with False Positive but missing fraud charges (False Negative) indicates a bad model."
   ]
  },
  {
   "cell_type": "code",
   "execution_count": 35,
   "id": "01d48e71",
   "metadata": {},
   "outputs": [
    {
     "name": "stdout",
     "output_type": "stream",
     "text": [
      "lbfgs solver with threshold change\n",
      "Accuracy: 0.9010399803854388\n",
      "Confusion Matrix:\n",
      "[[1145496  125408]\n",
      " [    521    1099]]\n",
      "Recall: 0.678395061728395\n"
     ]
    }
   ],
   "source": [
    "# try changing threshold for lbfgs solver\n",
    "y_pred_prob = modelLRlbfgs.predict_proba(x_test)[:, 1] \n",
    "threshold = 0.0025  # Modify the threshold as needed\n",
    "y_pred = [1 if prob >= threshold else 0 for prob in y_pred_prob]\n",
    "accuracy = accuracy_score(y_test, y_pred)\n",
    "confusion = confusion_matrix(y_test, y_pred)\n",
    "print('lbfgs solver with threshold change')\n",
    "print(\"Accuracy:\", accuracy)\n",
    "print(\"Confusion Matrix:\")\n",
    "print(confusion)\n",
    "recall = recall_score(y_test, y_pred)\n",
    "print(\"Recall:\", recall)"
   ]
  },
  {
   "attachments": {},
   "cell_type": "markdown",
   "id": "eaea4a7c",
   "metadata": {},
   "source": [
    "This model despite lower accuracy is an improvement. Even with a threshold change there is still a lot of False Negative which we don't want but it is significantly lower than before. Since we changed the threshold the accuracy decreased and there is a lot of false postives but that is better then before because we want to decrease False negative as much as possible so the accuracy trade off is okay. \n",
    "Although this model still isn't great maybe other machine learning algorithms will preform better. We want to get a lower Recall."
   ]
  },
  {
   "attachments": {},
   "cell_type": "markdown",
   "id": "b1b64de3",
   "metadata": {},
   "source": [
    "### Random Forest"
   ]
  },
  {
   "cell_type": "code",
   "execution_count": 12,
   "id": "3f1e77f6",
   "metadata": {},
   "outputs": [
    {
     "name": "stdout",
     "output_type": "stream",
     "text": [
      "Accuracy: 0.9996007933838575\n",
      "Confusion Matrix:\n",
      "[[1270814      90]\n",
      " [    418    1202]]\n"
     ]
    }
   ],
   "source": [
    "\n",
    "model = RandomForestClassifier(n_estimators=50, max_features='sqrt')\n",
    "model.fit(x_train, y_train)\n",
    "y_pred = model.predict(x_test)\n",
    "accuracy = accuracy_score(y_test, y_pred)\n",
    "confusion = confusion_matrix(y_test, y_pred)\n",
    "print(\"Accuracy:\", accuracy)\n",
    "print(\"Confusion Matrix:\")\n",
    "print(confusion)\n"
   ]
  },
  {
   "cell_type": "code",
   "execution_count": 13,
   "id": "45094150",
   "metadata": {},
   "outputs": [
    {
     "name": "stdout",
     "output_type": "stream",
     "text": [
      "Accuracy: 0.9996000075440621\n",
      "Confusion Matrix:\n",
      "[[1270812      92]\n",
      " [    417    1203]]\n"
     ]
    }
   ],
   "source": [
    "#increase estimators\n",
    "model = RandomForestClassifier(n_estimators=100, max_features='sqrt')\n",
    "model.fit(x_train, y_train)\n",
    "y_pred = model.predict(x_test)\n",
    "accuracy = accuracy_score(y_test, y_pred)\n",
    "confusion = confusion_matrix(y_test, y_pred)\n",
    "print(\"Accuracy:\", accuracy)\n",
    "print(\"Confusion Matrix:\")\n",
    "print(confusion)"
   ]
  },
  {
   "attachments": {},
   "cell_type": "markdown",
   "id": "05f8dd0a",
   "metadata": {},
   "source": [
    "The Random forest model is preforming significantly better than the logistic regression but we still want to decrease the false negatives. Since the estimator increase didn't help the accuracy we are going to stick with a lower amount of estimators."
   ]
  },
  {
   "cell_type": "code",
   "execution_count": 32,
   "id": "6e039b8a",
   "metadata": {},
   "outputs": [
    {
     "name": "stdout",
     "output_type": "stream",
     "text": [
      "Accuracy: 0.999598435864471\n",
      "Confusion Matrix:\n",
      "[[1270802     102]\n",
      " [    409    1211]]\n",
      "Recall: 0.7475308641975309\n"
     ]
    }
   ],
   "source": [
    "model = RandomForestClassifier(n_estimators=50, max_features='sqrt',class_weight='balanced')\n",
    "model.fit(x_train, y_train)\n",
    "y_pred = model.predict(x_test)\n",
    "accuracy = accuracy_score(y_test, y_pred)\n",
    "confusion = confusion_matrix(y_test, y_pred)\n",
    "print(\"Accuracy:\", accuracy)\n",
    "print(\"Confusion Matrix:\")\n",
    "print(confusion)\n",
    "recall = recall_score(y_test, y_pred)\n",
    "print(\"Recall:\", recall)"
   ]
  },
  {
   "attachments": {},
   "cell_type": "markdown",
   "id": "1caa994a",
   "metadata": {},
   "source": [
    "Similar to Logistic regression to improve the recall we are going to add a threshold."
   ]
  },
  {
   "cell_type": "code",
   "execution_count": 31,
   "id": "044aa66d",
   "metadata": {},
   "outputs": [
    {
     "name": "stdout",
     "output_type": "stream",
     "text": [
      "Accuracy: 0.9976448381327189\n",
      "Confusion Matrix:\n",
      "[[1268013    2891]\n",
      " [    106    1514]]\n",
      "Recall: 0.9345679012345679\n"
     ]
    }
   ],
   "source": [
    "\n",
    "y_pred_prob = model.predict_proba(x_test)[:, 1]  \n",
    "threshold = 0.03\n",
    "y_pred = [1 if prob >= threshold else 0 for prob in y_pred_prob]\n",
    "accuracy = accuracy_score(y_test, y_pred)\n",
    "confusion = confusion_matrix(y_test, y_pred)\n",
    "print(\"Accuracy:\", accuracy)\n",
    "print(\"Confusion Matrix:\")\n",
    "print(confusion)\n",
    "recall = recall_score(y_test, y_pred)\n",
    "print(\"Recall:\", recall)"
   ]
  },
  {
   "attachments": {},
   "cell_type": "markdown",
   "id": "66e64e9c",
   "metadata": {},
   "source": [
    "Adding a threshold greatly increased the Recall while only slightly decreasing the accuracy as mentioned before we want a recall near 1 for this model because we don't want to miss any Fradulent transcations."
   ]
  },
  {
   "cell_type": "code",
   "execution_count": 37,
   "id": "bcf01eaf",
   "metadata": {},
   "outputs": [
    {
     "name": "stdout",
     "output_type": "stream",
     "text": [
      "Accuracy: 0.9996220110583376\n",
      "Confusion Matrix:\n",
      "[[1270776     128]\n",
      " [    353    1267]]\n",
      "Recall: 0.7820987654320988\n"
     ]
    }
   ],
   "source": [
    "model = RandomForestClassifier(n_estimators=50,max_features=None,class_weight='balanced')\n",
    "model.fit(x_train, y_train)\n",
    "y_pred = model.predict(x_test)\n",
    "accuracy = accuracy_score(y_test, y_pred)\n",
    "confusion = confusion_matrix(y_test, y_pred)\n",
    "print(\"Accuracy:\", accuracy)\n",
    "print(\"Confusion Matrix:\")\n",
    "print(confusion)\n",
    "recall = recall_score(y_test, y_pred)\n",
    "print(\"Recall:\", recall)"
   ]
  },
  {
   "cell_type": "code",
   "execution_count": 44,
   "id": "4dc875e6",
   "metadata": {},
   "outputs": [
    {
     "name": "stdout",
     "output_type": "stream",
     "text": [
      "Accuracy: 0.9973972985971188\n",
      "Confusion Matrix:\n",
      "[[1267632    3272]\n",
      " [     40    1580]]\n",
      "Recall: 0.9753086419753086\n"
     ]
    }
   ],
   "source": [
    "y_pred_prob = model.predict_proba(x_test)[:, 1]  \n",
    "threshold = 0.02\n",
    "y_pred = [1 if prob >= threshold else 0 for prob in y_pred_prob]\n",
    "accuracy = accuracy_score(y_test, y_pred)\n",
    "confusion = confusion_matrix(y_test, y_pred)\n",
    "print(\"Accuracy:\", accuracy)\n",
    "print(\"Confusion Matrix:\")\n",
    "print(confusion)\n",
    "recall = recall_score(y_test, y_pred)\n",
    "print(\"Recall:\", recall)"
   ]
  },
  {
   "attachments": {},
   "cell_type": "markdown",
   "id": "347ec56a",
   "metadata": {},
   "source": [
    "By increasing max_Features we were able to get a better recall on similar accuracy."
   ]
  },
  {
   "attachments": {},
   "cell_type": "markdown",
   "id": "926eacb6",
   "metadata": {},
   "source": [
    "Overall, Random Forests with some tunig preformed well, as expected significantly better than Logistic Regression."
   ]
  },
  {
   "attachments": {},
   "cell_type": "markdown",
   "id": "3159bfd5",
   "metadata": {},
   "source": [
    "### SVM"
   ]
  },
  {
   "attachments": {},
   "cell_type": "markdown",
   "id": "a4319a00",
   "metadata": {},
   "source": [
    "looking at different kernels preformence for Support Vectors"
   ]
  },
  {
   "cell_type": "code",
   "execution_count": 8,
   "id": "d7fa6f46",
   "metadata": {},
   "outputs": [
    {
     "name": "stderr",
     "output_type": "stream",
     "text": [
      "/Users/blakepeery/opt/anaconda3/lib/python3.9/site-packages/sklearn/svm/_base.py:284: ConvergenceWarning: Solver terminated early (max_iter=1000).  Consider pre-processing your data with StandardScaler or MinMaxScaler.\n",
      "  warnings.warn(\n"
     ]
    },
    {
     "name": "stdout",
     "output_type": "stream",
     "text": [
      "Accuracy: 0.0032848103454237404\n",
      "Confusion Matrix:\n",
      "[[   2561 1268343]\n",
      " [      1    1619]]\n",
      "Recall: 0.9993827160493827\n"
     ]
    }
   ],
   "source": [
    "model = SVC(kernel='linear',class_weight='balanced',max_iter=1000)\n",
    "model.fit(x_train, y_train)\n",
    "y_pred = model.predict(x_test)\n",
    "accuracy = accuracy_score(y_test, y_pred)\n",
    "confusion = confusion_matrix(y_test, y_pred)\n",
    "print(\"Accuracy:\", accuracy)\n",
    "print(\"Confusion Matrix:\")\n",
    "print(confusion)\n",
    "recall = recall_score(y_test, y_pred)\n",
    "print(\"Recall:\", recall)"
   ]
  },
  {
   "cell_type": "code",
   "execution_count": 9,
   "id": "d02da321",
   "metadata": {},
   "outputs": [
    {
     "name": "stderr",
     "output_type": "stream",
     "text": [
      "/Users/blakepeery/opt/anaconda3/lib/python3.9/site-packages/sklearn/svm/_base.py:284: ConvergenceWarning: Solver terminated early (max_iter=1000).  Consider pre-processing your data with StandardScaler or MinMaxScaler.\n",
      "  warnings.warn(\n"
     ]
    },
    {
     "name": "stdout",
     "output_type": "stream",
     "text": [
      "Accuracy: 0.0012989931820539338\n",
      "Confusion Matrix:\n",
      "[[     33 1270871]\n",
      " [      0    1620]]\n",
      "Recall: 1.0\n"
     ]
    }
   ],
   "source": [
    "model = SVC(kernel='poly',class_weight='balanced',max_iter=1000)\n",
    "model.fit(x_train, y_train)\n",
    "y_pred = model.predict(x_test)\n",
    "accuracy = accuracy_score(y_test, y_pred)\n",
    "confusion = confusion_matrix(y_test, y_pred)\n",
    "print(\"Accuracy:\", accuracy)\n",
    "print(\"Confusion Matrix:\")\n",
    "print(confusion)\n",
    "recall = recall_score(y_test, y_pred)\n",
    "print(\"Recall:\", recall)"
   ]
  },
  {
   "cell_type": "code",
   "execution_count": 10,
   "id": "1e9670ef",
   "metadata": {},
   "outputs": [
    {
     "name": "stderr",
     "output_type": "stream",
     "text": [
      "/Users/blakepeery/opt/anaconda3/lib/python3.9/site-packages/sklearn/svm/_base.py:284: ConvergenceWarning: Solver terminated early (max_iter=1000).  Consider pre-processing your data with StandardScaler or MinMaxScaler.\n",
      "  warnings.warn(\n"
     ]
    },
    {
     "name": "stdout",
     "output_type": "stream",
     "text": [
      "Accuracy: 0.0012730604688005885\n",
      "Confusion Matrix:\n",
      "[[      0 1270904]\n",
      " [      0    1620]]\n",
      "Recall: 1.0\n"
     ]
    }
   ],
   "source": [
    "model = SVC(kernel='rbf',class_weight='balanced',max_iter=1000)\n",
    "model.fit(x_train, y_train)\n",
    "y_pred = model.predict(x_test)\n",
    "accuracy = accuracy_score(y_test, y_pred)\n",
    "confusion = confusion_matrix(y_test, y_pred)\n",
    "print(\"Accuracy:\", accuracy)\n",
    "print(\"Confusion Matrix:\")\n",
    "print(confusion)\n",
    "recall = recall_score(y_test, y_pred)\n",
    "print(\"Recall:\", recall)"
   ]
  },
  {
   "cell_type": "code",
   "execution_count": 14,
   "id": "8f93d2f9",
   "metadata": {},
   "outputs": [
    {
     "name": "stderr",
     "output_type": "stream",
     "text": [
      "/Users/blakepeery/opt/anaconda3/lib/python3.9/site-packages/sklearn/svm/_base.py:284: ConvergenceWarning: Solver terminated early (max_iter=1000).  Consider pre-processing your data with StandardScaler or MinMaxScaler.\n",
      "  warnings.warn(\n"
     ]
    },
    {
     "name": "stdout",
     "output_type": "stream",
     "text": [
      "Accuracy: 0.0057146269932826415\n",
      "Confusion Matrix:\n",
      "[[   5653 1265251]\n",
      " [      1    1619]]\n",
      "Recall: 0.9993827160493827\n"
     ]
    }
   ],
   "source": [
    "model = SVC(kernel='sigmoid',class_weight='balanced',max_iter=1000)\n",
    "model.fit(x_train, y_train)\n",
    "y_pred = model.predict(x_test)\n",
    "accuracy = accuracy_score(y_test, y_pred)\n",
    "confusion = confusion_matrix(y_test, y_pred)\n",
    "print(\"Accuracy:\", accuracy)\n",
    "print(\"Confusion Matrix:\")\n",
    "print(confusion)\n",
    "recall = recall_score(y_test, y_pred)\n",
    "print(\"Recall:\", recall)"
   ]
  },
  {
   "attachments": {},
   "cell_type": "markdown",
   "id": "52f542cd",
   "metadata": {},
   "source": [
    "looking at different values for C."
   ]
  },
  {
   "cell_type": "code",
   "execution_count": 16,
   "id": "410f4411",
   "metadata": {},
   "outputs": [
    {
     "name": "stderr",
     "output_type": "stream",
     "text": [
      "/Users/blakepeery/opt/anaconda3/lib/python3.9/site-packages/sklearn/svm/_base.py:284: ConvergenceWarning: Solver terminated early (max_iter=100).  Consider pre-processing your data with StandardScaler or MinMaxScaler.\n",
      "  warnings.warn(\n"
     ]
    },
    {
     "name": "stdout",
     "output_type": "stream",
     "text": [
      "Accuracy: 0.0014907380921695779\n",
      "Confusion Matrix:\n",
      "[[    277 1270627]\n",
      " [      0    1620]]\n",
      "Recall: 1.0\n"
     ]
    }
   ],
   "source": [
    "model = SVC(kernel='sigmoid',class_weight='balanced',max_iter=100,C=0.1)\n",
    "model.fit(x_train, y_train)\n",
    "y_pred = model.predict(x_test)\n",
    "accuracy = accuracy_score(y_test, y_pred)\n",
    "confusion = confusion_matrix(y_test, y_pred)\n",
    "print(\"Accuracy:\", accuracy)\n",
    "print(\"Confusion Matrix:\")\n",
    "print(confusion)\n",
    "recall = recall_score(y_test, y_pred)\n",
    "print(\"Recall:\", recall)"
   ]
  },
  {
   "cell_type": "code",
   "execution_count": 17,
   "id": "a724a72e",
   "metadata": {},
   "outputs": [
    {
     "name": "stderr",
     "output_type": "stream",
     "text": [
      "/Users/blakepeery/opt/anaconda3/lib/python3.9/site-packages/sklearn/svm/_base.py:284: ConvergenceWarning: Solver terminated early (max_iter=100).  Consider pre-processing your data with StandardScaler or MinMaxScaler.\n",
      "  warnings.warn(\n"
     ]
    },
    {
     "name": "stdout",
     "output_type": "stream",
     "text": [
      "Accuracy: 0.005677692522891513\n",
      "Confusion Matrix:\n",
      "[[   5606 1265298]\n",
      " [      1    1619]]\n",
      "Recall: 0.9993827160493827\n"
     ]
    }
   ],
   "source": [
    "model = SVC(kernel='sigmoid',class_weight='balanced',max_iter=100,C=10)\n",
    "model.fit(x_train, y_train)\n",
    "y_pred = model.predict(x_test)\n",
    "accuracy = accuracy_score(y_test, y_pred)\n",
    "confusion = confusion_matrix(y_test, y_pred)\n",
    "print(\"Accuracy:\", accuracy)\n",
    "print(\"Confusion Matrix:\")\n",
    "print(confusion)\n",
    "recall = recall_score(y_test, y_pred)\n",
    "print(\"Recall:\", recall)"
   ]
  },
  {
   "cell_type": "code",
   "execution_count": 18,
   "id": "756eb2fd",
   "metadata": {},
   "outputs": [
    {
     "name": "stderr",
     "output_type": "stream",
     "text": [
      "/Users/blakepeery/opt/anaconda3/lib/python3.9/site-packages/sklearn/svm/_base.py:284: ConvergenceWarning: Solver terminated early (max_iter=100).  Consider pre-processing your data with StandardScaler or MinMaxScaler.\n",
      "  warnings.warn(\n"
     ]
    },
    {
     "name": "stdout",
     "output_type": "stream",
     "text": [
      "Accuracy: 0.0057122694738959735\n",
      "Confusion Matrix:\n",
      "[[   5650 1265254]\n",
      " [      1    1619]]\n",
      "Recall: 0.9993827160493827\n"
     ]
    }
   ],
   "source": [
    "model = SVC(kernel='sigmoid',class_weight='balanced',max_iter=100,C=20)\n",
    "model.fit(x_train, y_train)\n",
    "y_pred = model.predict(x_test)\n",
    "accuracy = accuracy_score(y_test, y_pred)\n",
    "confusion = confusion_matrix(y_test, y_pred)\n",
    "print(\"Accuracy:\", accuracy)\n",
    "print(\"Confusion Matrix:\")\n",
    "print(confusion)\n",
    "recall = recall_score(y_test, y_pred)\n",
    "print(\"Recall:\", recall)"
   ]
  },
  {
   "cell_type": "code",
   "execution_count": 19,
   "id": "9f267a60",
   "metadata": {},
   "outputs": [
    {
     "name": "stderr",
     "output_type": "stream",
     "text": [
      "/Users/blakepeery/opt/anaconda3/lib/python3.9/site-packages/sklearn/svm/_base.py:284: ConvergenceWarning: Solver terminated early (max_iter=2000).  Consider pre-processing your data with StandardScaler or MinMaxScaler.\n",
      "  warnings.warn(\n"
     ]
    },
    {
     "name": "stdout",
     "output_type": "stream",
     "text": [
      "Accuracy: 0.0059425205339938576\n",
      "Confusion Matrix:\n",
      "[[   5943 1264961]\n",
      " [      1    1619]]\n",
      "Recall: 0.9993827160493827\n"
     ]
    }
   ],
   "source": [
    "model = SVC(kernel='sigmoid',class_weight='balanced',max_iter=2000,C=20)\n",
    "model.fit(x_train, y_train)\n",
    "y_pred = model.predict(x_test)\n",
    "accuracy = accuracy_score(y_test, y_pred)\n",
    "confusion = confusion_matrix(y_test, y_pred)\n",
    "print(\"Accuracy:\", accuracy)\n",
    "print(\"Confusion Matrix:\")\n",
    "print(confusion)\n",
    "recall = recall_score(y_test, y_pred)\n",
    "print(\"Recall:\", recall)"
   ]
  },
  {
   "attachments": {},
   "cell_type": "markdown",
   "id": "63fd6497",
   "metadata": {},
   "source": [
    "Feature reduction to help convergence of SVC model"
   ]
  },
  {
   "cell_type": "code",
   "execution_count": 24,
   "id": "858715f1",
   "metadata": {},
   "outputs": [],
   "source": [
    "features = ['amount', 'oldbalanceOrg', 'oldbalanceDest']\n",
    "target = 'isFraud'\n",
    "x_train, x_test, y_train, y_test = train_test_split(data[features], data[target], test_size=0.2, random_state=42)"
   ]
  },
  {
   "cell_type": "code",
   "execution_count": 25,
   "id": "71c034e7",
   "metadata": {},
   "outputs": [
    {
     "name": "stderr",
     "output_type": "stream",
     "text": [
      "/Users/blakepeery/opt/anaconda3/lib/python3.9/site-packages/sklearn/svm/_base.py:284: ConvergenceWarning: Solver terminated early (max_iter=5000).  Consider pre-processing your data with StandardScaler or MinMaxScaler.\n",
      "  warnings.warn(\n"
     ]
    },
    {
     "name": "stdout",
     "output_type": "stream",
     "text": [
      "Accuracy: 0.002145342641867658\n",
      "Confusion Matrix:\n",
      "[[   1110 1269794]\n",
      " [      0    1620]]\n",
      "Recall: 1.0\n"
     ]
    }
   ],
   "source": [
    "model = SVC(kernel='linear',class_weight='balanced',max_iter=5000)\n",
    "model.fit(x_train, y_train)\n",
    "y_pred = model.predict(x_test)\n",
    "accuracy = accuracy_score(y_test, y_pred)\n",
    "confusion = confusion_matrix(y_test, y_pred)\n",
    "print(\"Accuracy:\", accuracy)\n",
    "print(\"Confusion Matrix:\")\n",
    "print(confusion)\n",
    "recall = recall_score(y_test, y_pred)\n",
    "print(\"Recall:\", recall)"
   ]
  },
  {
   "cell_type": "code",
   "execution_count": 28,
   "id": "0ede5804",
   "metadata": {},
   "outputs": [
    {
     "name": "stderr",
     "output_type": "stream",
     "text": [
      "/Users/blakepeery/opt/anaconda3/lib/python3.9/site-packages/sklearn/svm/_base.py:284: ConvergenceWarning: Solver terminated early (max_iter=2000).  Consider pre-processing your data with StandardScaler or MinMaxScaler.\n",
      "  warnings.warn(\n"
     ]
    },
    {
     "name": "stdout",
     "output_type": "stream",
     "text": [
      "Accuracy: 0.14931034699542012\n",
      "Confusion Matrix:\n",
      "[[ 188861 1082043]\n",
      " [    480    1140]]\n",
      "Recall: 0.7037037037037037\n"
     ]
    }
   ],
   "source": [
    "model = SVC(kernel='rbf',class_weight='balanced',max_iter=2000,C=10)\n",
    "model.fit(x_train, y_train)\n",
    "y_pred = model.predict(x_test)\n",
    "accuracy = accuracy_score(y_test, y_pred)\n",
    "confusion = confusion_matrix(y_test, y_pred)\n",
    "print(\"Accuracy:\", accuracy)\n",
    "print(\"Confusion Matrix:\")\n",
    "print(confusion)\n",
    "recall = recall_score(y_test, y_pred)\n",
    "print(\"Recall:\", recall)"
   ]
  },
  {
   "attachments": {},
   "cell_type": "markdown",
   "id": "9f0ecf6f-aa12-479c-85b2-045c971ba4a7",
   "metadata": {},
   "source": [
    "# Results"
   ]
  },
  {
   "attachments": {},
   "cell_type": "markdown",
   "id": "2d4a69ab",
   "metadata": {},
   "source": [
    "Best Models for each type:\n",
    "|    Model    |  Accuracy  |   Recall   |\n",
    "|:-----------:|:----------:|:----------:|\n",
    "|    Logistic Regression  |   0.901     |   0.678     |\n",
    "|   Random Forest   |   0.997     |   0.975     |\n",
    "|   SVM   |   0.149    |   0.704    |"
   ]
  },
  {
   "attachments": {},
   "cell_type": "markdown",
   "id": "b89512c8-069d-41e0-910e-6bd0bc7011d1",
   "metadata": {},
   "source": [
    "# Conclusion"
   ]
  },
  {
   "attachments": {},
   "cell_type": "markdown",
   "id": "e8bd8a53",
   "metadata": {},
   "source": [
    "Out of the methods we explored (SVM, Random Forest, and Logistic Regression) the Random Forest preformed by far the best with 99% aaccuracy and 97% Recall. Tuning the parameters of the Random Forest or trying other Tree Ensemble methods may result in better preformance. The Random Forest may have preformed the best because of its ability to ingnore potential noise in the data (outliers) and irevent features as some of the The SVM overall preformed poorly but I think that was a result of the Max iterations size. The max iteration was put in place because of the lengthy time it took for the SVM to reach convergence. If the SVM model had more time to train it may have reached results as good or better than Random Forests. Based on graphing and looking at the results of Logistic Regression in works well, but more complex models may be better for this problem. Overall, Tree Ensembles look the most promising for predicitng fraud in this dataset and further research should go into the best Tree Ensembles for this problem."
   ]
  }
 ],
 "metadata": {
  "kernelspec": {
   "display_name": "Python 3 (ipykernel)",
   "language": "python",
   "name": "python3"
  },
  "language_info": {
   "codemirror_mode": {
    "name": "ipython",
    "version": 3
   },
   "file_extension": ".py",
   "mimetype": "text/x-python",
   "name": "python",
   "nbconvert_exporter": "python",
   "pygments_lexer": "ipython3",
   "version": "3.9.12"
  }
 },
 "nbformat": 4,
 "nbformat_minor": 5
}
